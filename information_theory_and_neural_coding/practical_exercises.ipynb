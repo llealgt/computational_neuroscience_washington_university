{
 "cells": [
  {
   "cell_type": "code",
   "execution_count": 29,
   "metadata": {
    "collapsed": true
   },
   "outputs": [],
   "source": [
    "import pickle\n",
    "import numpy as np\n",
    "import matplotlib.pyplot as plt"
   ]
  },
  {
   "cell_type": "code",
   "execution_count": 2,
   "metadata": {
    "collapsed": true
   },
   "outputs": [],
   "source": [
    "with open('data.pickle', 'rb') as f:\n",
    "    data = pickle.load(f)"
   ]
  },
  {
   "cell_type": "code",
   "execution_count": 4,
   "metadata": {},
   "outputs": [
    {
     "data": {
      "text/plain": [
       "dict_keys(['neuron4', 'stim', 'neuron3', 'neuron2', 'neuron1'])"
      ]
     },
     "execution_count": 4,
     "metadata": {},
     "output_type": "execute_result"
    }
   ],
   "source": [
    "data.keys()"
   ]
  },
  {
   "cell_type": "markdown",
   "metadata": {},
   "source": [
    "Suppose that we have a neuron which, in a given time period, will fire with probability 0.1, yielding a Bernoulli distribution for the neuron's firing (denoted by the random variable F = 0 or 1) with P(F = 1) = 0.1.\n",
    "\n",
    "Which of these is closest to the entropy H(F) of this distribution (calculated in bits, i.e., using the base 2 logarithm)?"
   ]
  },
  {
   "cell_type": "code",
   "execution_count": 15,
   "metadata": {
    "collapsed": true
   },
   "outputs": [],
   "source": [
    "P_firing = 0.1\n",
    "P_not_firing = 1- p"
   ]
  },
  {
   "cell_type": "code",
   "execution_count": 18,
   "metadata": {},
   "outputs": [
    {
     "name": "stdout",
     "output_type": "stream",
     "text": [
      "Firing entropy: 0.468995593589\n"
     ]
    }
   ],
   "source": [
    "total_response_entropy = -P_firing*np.log2(P_firing) - P_not_firing*np.log2(P_not_firing)\n",
    "print(\"Firing entropy:\",total_response_entropy)"
   ]
  },
  {
   "cell_type": "markdown",
   "metadata": {},
   "source": [
    "Now lets add a stimulus to the picture. Suppose that we think this neuron's activity is related to a light flashing in the eye. Let us say that the light is flashing in a given time period with probability 0.10. Call this stimulus random variable SS.\n",
    "\n",
    "If there is a flash, the neuron will fire with probability 1/2. If there is not a flash, the neuron will fire with probability 1/18. Call this random variable FF (whether the neuron fires or not).\n",
    "\n",
    "Which of these is closest, in bits (log base 2 units), to the mutual information MI(S,F)?"
   ]
  },
  {
   "cell_type": "code",
   "execution_count": 24,
   "metadata": {
    "collapsed": true
   },
   "outputs": [],
   "source": [
    "P_light_stimulus = 0.1\n",
    "P_firing_given_light = 0.5\n",
    "P_firing_given_no_light = 1.0/18.0\n",
    "\n",
    "P_no_light_stimulus = 1- P_light_stimulus\n",
    "P_not_firing_given_light = 1 - P_firing_given_light\n",
    "P_not_firing_given_no_light = 1 - P_firing_given_no_light"
   ]
  },
  {
   "cell_type": "code",
   "execution_count": 23,
   "metadata": {
    "collapsed": true
   },
   "outputs": [],
   "source": [
    "entropy_given_light = - P_firing_given_light*np.log2(P_firing_given_light) - P_not_firing_given_light * np.log2(P_not_firing_given_light)\n",
    "entropy_given_no_light = - P_firing_given_no_light*np.log2(P_firing_given_no_light) - P_not_firing_given_no_light* np.log2(P_not_firing_given_no_light)"
   ]
  },
  {
   "cell_type": "code",
   "execution_count": 25,
   "metadata": {
    "collapsed": true
   },
   "outputs": [],
   "source": [
    "mutual_information = total_response_entropy - P_light_stimulus * entropy_given_light - P_no_light_stimulus*entropy_given_no_light"
   ]
  },
  {
   "cell_type": "code",
   "execution_count": 27,
   "metadata": {},
   "outputs": [
    {
     "name": "stdout",
     "output_type": "stream",
     "text": [
      "Mutual information: 0.090406507354\n"
     ]
    }
   ],
   "source": [
    "print(\"Mutual information:\",mutual_information)"
   ]
  },
  {
   "cell_type": "markdown",
   "metadata": {},
   "source": [
    "In the following three questions, we will explore Poisson neuron models and population coding.\n",
    "\n",
    "This exercise is based on a set of artificial \"experiments\" that we've run on four simulated neurons that emulate the behavior found in the cercal organs of a cricket. Please note that all the supplied data is synthetic. Any resemblance to a real cricket is purely coincidental.\n",
    "\n",
    "In the first set of experiments, we probed each neuron with a range of air velocity stimuli of uniform intensity and differing direction. We recorded the firing rate of each of the neurons in response to each of the stimulus values. Each of these recordings lasted 10 seconds and we repeated this process 100 times for each neuron-stimulus combination.\n",
    "\n",
    "We've supplied you with a .mat file for each of the neurons that contains the recorded firing rates (in Hz). These are named neuron1neuron1, neuron2neuron2, neuron3neuron3, and neuron4neuron4. The stimulus, that is, the direction of the air velocity, is in the vector named stimstim.\n",
    "\n",
    "Download the file:\n",
    "\n",
    "tuning.mat\n",
    "and save it into your MATLAB/Octave directory. To load the data, use the following command:\n",
    "\n",
    "load('tuning.mat')\n",
    "\n",
    "The equivalent data files for Python 2.7 and Python 3.4 are:\n",
    "\n",
    "tuning_2.7.pickle\n",
    "tuning_3.4.pickle\n",
    "To load the data, make sure you are in the same directory you saved it and add the following (shown for 2.7) to your script:\n",
    "\n",
    "\n",
    "\u0001\u0001\n",
    "This will load everything into a dict called data, and you'll be able to access the stim and neuron responses using data['stim'], data['neuron1'], etc. (In general, data.keys() will show you all the keys available in the dict.)\n",
    "\n",
    "(NOTE ON DOWNLOADING CODE AND DATA: Currently, downloaded files are automatically renamed to begin with a long string of random characters (we hope to have this fixed soon). Sometimes the file type is also changed. In order to ensure that all of the files in the quizzes work correctly, make sure that after downloading each file you rename it to the file name shown in the original quiz question. If you still have trouble getting any of the files to open feel free to search or inquire on the class Discussion Forums.)\n",
    "\n",
    "The matrices contain the results of running a set of experiments in which we probed the synthetic neuron with the stimuli in stim. Each column of a neuron matrix contains the firing rate of that neuron (in Hz) in response to the corresponding stimulus value in stimstim. That is, n\\text{th}nth column of neuron1neuron1 contains the 100 trials in which we applied the stimulus of value stim(n) to neuron1neuron1.\n",
    "\n",
    "Plot the tuning curve-- the mean firing rate of the neuron as a function of the stimulus-- for each of the neurons.\n",
    "\n",
    "Which of the following functions best describes the tuning curve?"
   ]
  },
  {
   "cell_type": "code",
   "execution_count": 30,
   "metadata": {},
   "outputs": [
    {
     "data": {
      "image/png": "[encoded data removed]",
      "text/plain": [
       "<matplotlib.figure.Figure at 0x115f95fd0>"
      ]
     },
     "metadata": {},
     "output_type": "display_data"
    }
   ],
   "source": [
    "plt.subplot(221)\n",
    "plt.plot(data['stim'], data['neuron1'].sum(0))\n",
    "plt.subplot(222)\n",
    "plt.plot(data['stim'], data['neuron2'].sum(0))\n",
    "plt.subplot(223)\n",
    "plt.plot(data['stim'], data['neuron3'].sum(0))\n",
    "plt.subplot(224)\n",
    "plt.plot(data['stim'], data['neuron4'].sum(0))\n",
    "\n",
    "plt.show()"
   ]
  },
  {
   "cell_type": "code",
   "execution_count": null,
   "metadata": {
    "collapsed": true
   },
   "outputs": [],
   "source": []
  }
 ],
 "metadata": {
  "kernelspec": {
   "display_name": "Python 3",
   "language": "python",
   "name": "python3"
  },
  "language_info": {
   "codemirror_mode": {
    "name": "ipython",
    "version": 3
   },
   "file_extension": ".py",
   "mimetype": "text/x-python",
   "name": "python",
   "nbconvert_exporter": "python",
   "pygments_lexer": "ipython3",
   "version": "3.6.1"
  }
 },
 "nbformat": 4,
 "nbformat_minor": 2
}
